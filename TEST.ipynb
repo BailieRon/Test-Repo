{
 "cells": [
  {
   "cell_type": "code",
   "execution_count": 3,
   "id": "90829ce1",
   "metadata": {},
   "outputs": [
    {
     "name": "stdout",
     "output_type": "stream",
     "text": [
      "hello world! testing out git repository\n",
      "lets see if I can get it to update?\n"
     ]
    }
   ],
   "source": [
    "import numpy as np\n",
    "\n",
    "x = \"hello world!\"\n",
    "\n",
    "y = \"testing out git repository\"\n",
    "\n",
    "z = \"lets see if I can get it to update?\"\n",
    "print(x,y)\n",
    "print(z)"
   ]
  },
  {
   "cell_type": "code",
   "execution_count": null,
   "id": "5e1ad018",
   "metadata": {},
   "outputs": [],
   "source": []
  }
 ],
 "metadata": {
  "kernelspec": {
   "display_name": "Python 3 (ipykernel)",
   "language": "python",
   "name": "python3"
  },
  "language_info": {
   "codemirror_mode": {
    "name": "ipython",
    "version": 3
   },
   "file_extension": ".py",
   "mimetype": "text/x-python",
   "name": "python",
   "nbconvert_exporter": "python",
   "pygments_lexer": "ipython3",
   "version": "3.11.4"
  }
 },
 "nbformat": 4,
 "nbformat_minor": 5
}
